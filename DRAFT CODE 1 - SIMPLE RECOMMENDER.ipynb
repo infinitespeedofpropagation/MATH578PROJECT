{
 "cells": [
  {
   "cell_type": "markdown",
   "id": "fd4a3c4d",
   "metadata": {},
   "source": [
    "We'll be starting off by reading the dataset files from MovieLens using the 1M dataset."
   ]
  },
  {
   "cell_type": "markdown",
   "id": "f616e534",
   "metadata": {},
   "source": [
    "https://analyticsindiamag.com/singular-value-decomposition-svd-application-recommender-system/\n",
    "\n",
    "https://alyssaq.github.io/2015/20150426-simple-movie-recommender-using-svd/"
   ]
  },
  {
   "cell_type": "code",
   "execution_count": 7,
   "id": "6c47ca10",
   "metadata": {},
   "outputs": [],
   "source": [
    "import pandas as pd\n",
    "import numpy as np\n",
    "\n",
    "ratings_data = pd.io.parsers.read_csv('/data/ml-1m/ratings.dat', \n",
    "        names=['userID','movieID','rating','timestamp'], \n",
    "        engine='python', delimiter='::')\n",
    "movies_df = pd.io.parsers.read_csv('/data/ml-1m/ratings.dat', \n",
    "        names=['movieID','title','genre'], \n",
    "        engine='python', delimiter='::')\n"
   ]
  },
  {
   "cell_type": "markdown",
   "id": "86ac8408",
   "metadata": {},
   "source": [
    "Next we'll implement our ratings matrix with our rows as movies and columns as users. After we'll have to normalize the matrix."
   ]
  },
  {
   "cell_type": "code",
   "execution_count": 8,
   "id": "d47fd3df",
   "metadata": {},
   "outputs": [],
   "source": [
    "ratings = np.ndarray(\n",
    "    shape=(np.max(ratings_data.movieID.values), np.max(ratings_data.userID.values)), \n",
    "    dtype=np.uint8)\n",
    "ratings[ratings_data.movieID.values - 1, ratings_data.userID.values - 1] = ratings_data.rating.values\n",
    "\n",
    "normalize_r = ratings - np.asarray([(np.mean(ratings, 1))]).T"
   ]
  },
  {
   "cell_type": "markdown",
   "id": "c21ed920",
   "metadata": {},
   "source": [
    "SVD decomposition below"
   ]
  },
  {
   "cell_type": "code",
   "execution_count": 9,
   "id": "ec8ca17a",
   "metadata": {},
   "outputs": [],
   "source": [
    "A = normalize_r.T / np.sqrt(ratings.shape[0] - 1)\n",
    "U, S, V = np.linalg.svd(A)"
   ]
  },
  {
   "cell_type": "markdown",
   "id": "d5d0060d",
   "metadata": {},
   "source": [
    "Next we'll create a function for cosine similarity to recommend the most similar movies from list to the movie that was chosen and print the top 'n' recommended movies."
   ]
  },
  {
   "cell_type": "code",
   "execution_count": 17,
   "id": "19be0435",
   "metadata": {},
   "outputs": [],
   "source": [
    "def top_cosine_similarity(ratings_data, movieID, top_n=10):\n",
    "    index = movieID - 1 # Movie id starts from 1 in the dataset\n",
    "    movie_row = ratings_data[index, :]\n",
    "    magnitude = np.sqrt(np.einsum('ij, ij -> i', ratings_data, ratings_data))\n",
    "    similarity = np.dot(movie_row, ratings_data.T) / (magnitude[index] * magnitude)\n",
    "    sort_indexes = np.argsort(-similarity)\n",
    "    return sort_indexes[:top_n]\n",
    "\n",
    "def print_recommended(movies_df, movieID, top_indexes):\n",
    "    print('Recommendations for {0}: \\n'.format(\n",
    "    movies_df[movies_df.movieID == movieID].title.values[0]))\n",
    "    for id in top_indexes + 1:\n",
    "        print(movies_df[movies_df.movieID == id].title.values[0])"
   ]
  },
  {
   "cell_type": "code",
   "execution_count": 19,
   "id": "3b4fdaa1",
   "metadata": {},
   "outputs": [
    {
     "name": "stdout",
     "output_type": "stream",
     "text": [
      "Recommendations for 5: \n",
      "\n",
      "5\n",
      "4\n",
      "4\n",
      "5\n",
      "3\n",
      "3\n",
      "4\n",
      "2\n",
      "4\n",
      "3\n"
     ]
    },
    {
     "name": "stderr",
     "output_type": "stream",
     "text": [
      "C:\\Users\\xxxdk\\AppData\\Local\\Temp\\ipykernel_12732\\799633475.py:5: RuntimeWarning: invalid value encountered in true_divide\n",
      "  similarity = np.dot(movie_row, ratings_data.T) / (magnitude[index] * magnitude)\n"
     ]
    }
   ],
   "source": [
    "k = 50\n",
    "movieID = 1 # (getting an id from movies.dat)\n",
    "top_n = 10\n",
    "sliced = V.T[:, :k] # representative data\n",
    "indexes = top_cosine_similarity(sliced, movieID, top_n)\n",
    "\n",
    "print_recommended(movies_df, movieID, indexes)"
   ]
  },
  {
   "cell_type": "code",
   "execution_count": null,
   "id": "fb6ff03f",
   "metadata": {},
   "outputs": [],
   "source": []
  },
  {
   "cell_type": "markdown",
   "id": "e276754f",
   "metadata": {},
   "source": [
    "something wrong above..."
   ]
  },
  {
   "cell_type": "code",
   "execution_count": null,
   "id": "571c1445",
   "metadata": {},
   "outputs": [],
   "source": []
  }
 ],
 "metadata": {
  "kernelspec": {
   "display_name": "Python 3 (ipykernel)",
   "language": "python",
   "name": "python3"
  },
  "language_info": {
   "codemirror_mode": {
    "name": "ipython",
    "version": 3
   },
   "file_extension": ".py",
   "mimetype": "text/x-python",
   "name": "python",
   "nbconvert_exporter": "python",
   "pygments_lexer": "ipython3",
   "version": "3.9.13"
  }
 },
 "nbformat": 4,
 "nbformat_minor": 5
}
